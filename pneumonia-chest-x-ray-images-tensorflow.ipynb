{
 "cells": [
  {
   "cell_type": "markdown",
   "metadata": {
    "papermill": {
     "duration": 0.008574,
     "end_time": "2021-01-05T02:32:07.473505",
     "exception": false,
     "start_time": "2021-01-05T02:32:07.464931",
     "status": "completed"
    },
    "tags": []
   },
   "source": [
    "# Pneumonia Detection Using Convolutional Neural Networks in TensorFlow"
   ]
  },
  {
   "cell_type": "code",
   "execution_count": 1,
   "metadata": {
    "_cell_guid": "b1076dfc-b9ad-4769-8c92-a6c4dae69d19",
    "_uuid": "8f2839f25d086af736a60e9eeb907d3b93b6e0e5",
    "execution": {
     "iopub.execute_input": "2021-01-05T02:32:07.497139Z",
     "iopub.status.busy": "2021-01-05T02:32:07.496359Z",
     "iopub.status.idle": "2021-01-05T02:32:12.204768Z",
     "shell.execute_reply": "2021-01-05T02:32:12.205313Z"
    },
    "id": "_4g_RpGVkxg2",
    "papermill": {
     "duration": 4.72421,
     "end_time": "2021-01-05T02:32:12.205487",
     "exception": false,
     "start_time": "2021-01-05T02:32:07.481277",
     "status": "completed"
    },
    "tags": []
   },
   "outputs": [],
   "source": [
    "import tensorflow as tf\n",
    "from tensorflow import keras\n",
    "from tensorflow.keras import layers\n",
    "from tensorflow.keras.callbacks import EarlyStopping\n",
    "from tensorflow.keras.preprocessing import image_dataset_from_directory\n",
    "import tensorflow.keras.layers.experimental.preprocessing as preprocessing\n",
    "import matplotlib.pyplot as plt\n",
    "import numpy as np\n",
    "import pandas as pd"
   ]
  },
  {
   "cell_type": "markdown",
   "metadata": {
    "papermill": {
     "duration": 0.00751,
     "end_time": "2021-01-05T02:32:12.221656",
     "exception": false,
     "start_time": "2021-01-05T02:32:12.214146",
     "status": "completed"
    },
    "tags": []
   },
   "source": [
    "## Creating the pipelines"
   ]
  },
  {
   "cell_type": "code",
   "execution_count": 2,
   "metadata": {
    "execution": {
     "iopub.execute_input": "2021-01-05T02:32:12.246358Z",
     "iopub.status.busy": "2021-01-05T02:32:12.245684Z",
     "iopub.status.idle": "2021-01-05T02:32:21.728611Z",
     "shell.execute_reply": "2021-01-05T02:32:21.729482Z"
    },
    "id": "r6eD6DE6kxg9",
    "outputId": "acf10c27-7632-4c5e-fe91-b15b49199301",
    "papermill": {
     "duration": 9.500012,
     "end_time": "2021-01-05T02:32:21.729628",
     "exception": false,
     "start_time": "2021-01-05T02:32:12.229616",
     "status": "completed"
    },
    "tags": []
   },
   "outputs": [
    {
     "name": "stdout",
     "output_type": "stream",
     "text": [
      "Found 5216 files belonging to 2 classes.\n",
      "Found 624 files belonging to 2 classes.\n"
     ]
    }
   ],
   "source": [
    "def process_img(img, label):\n",
    "    img = tf.image.convert_image_dtype(img, dtype=tf.float32)\n",
    "    return img, label\n",
    "\n",
    "train_ds = image_dataset_from_directory(\n",
    "    '../input/chest-xray-pneumonia/chest_xray/train',\n",
    "    labels='inferred',\n",
    "    shuffle=True,\n",
    "    batch_size=64,\n",
    "    image_size=(256,256),\n",
    "    color_mode='grayscale',\n",
    "    label_mode='binary',\n",
    "    interpolation='nearest'\n",
    ").map(process_img)\n",
    "\n",
    "test_ds = image_dataset_from_directory(\n",
    "    '../input/chest-xray-pneumonia/chest_xray/test',\n",
    "    labels='inferred',\n",
    "    shuffle=False,\n",
    "    batch_size=64,\n",
    "    image_size=(256,256),\n",
    "    color_mode='grayscale',\n",
    "    label_mode='binary',\n",
    "    interpolation='nearest'\n",
    ").map(process_img)"
   ]
  },
  {
   "cell_type": "markdown",
   "metadata": {
    "papermill": {
     "duration": 0.008996,
     "end_time": "2021-01-05T02:32:21.747966",
     "exception": false,
     "start_time": "2021-01-05T02:32:21.738970",
     "status": "completed"
    },
    "tags": []
   },
   "source": [
    "## Making the model"
   ]
  },
  {
   "cell_type": "code",
   "execution_count": 3,
   "metadata": {
    "execution": {
     "iopub.execute_input": "2021-01-05T02:32:21.780119Z",
     "iopub.status.busy": "2021-01-05T02:32:21.779512Z",
     "iopub.status.idle": "2021-01-05T02:32:21.914135Z",
     "shell.execute_reply": "2021-01-05T02:32:21.912940Z"
    },
    "id": "pqPPJApGkxg-",
    "papermill": {
     "duration": 0.157464,
     "end_time": "2021-01-05T02:32:21.914268",
     "exception": false,
     "start_time": "2021-01-05T02:32:21.756804",
     "status": "completed"
    },
    "tags": []
   },
   "outputs": [],
   "source": [
    "model = keras.Sequential([\n",
    "    layers.InputLayer(input_shape=(256,256,1)),\n",
    "\n",
    "    # Data Augmentation\n",
    "    preprocessing.RandomContrast(0.3),\n",
    "\n",
    "    # Body\n",
    "    layers.Conv2D(filters=32, kernel_size=(3,3), strides=(1,1), activation='relu'),\n",
    "    layers.MaxPool2D(pool_size=(2,2), strides=(2,2)),\n",
    "    layers.Conv2D(filters=64, kernel_size=(3,3), strides=(1,1), activation='relu'),\n",
    "    layers.MaxPool2D(pool_size=(2,2), strides=(2,2)),\n",
    "    layers.Conv2D(filters=128, kernel_size=(3,3), strides=(1,1), activation='relu'),\n",
    "    layers.MaxPool2D(pool_size=(2,2), strides=(2,2)),\n",
    "    layers.Conv2D(filters=256, kernel_size=(3,3), strides=(1,1), activation='relu'),\n",
    "    layers.MaxPool2D(pool_size=(2,2), strides=(2,2)),\n",
    "    layers.Conv2D(filters=512, kernel_size=(3,3), strides=(1,1), activation='relu'),\n",
    "    layers.MaxPool2D(pool_size=(2,2), strides=(2,2)),\n",
    "\n",
    "    # Head\n",
    "    layers.Flatten(),\n",
    "    layers.Dense(128, activation='relu'),\n",
    "    layers.Dropout(0.5),\n",
    "    layers.Dense(1, activation='sigmoid')\n",
    "])"
   ]
  },
  {
   "cell_type": "markdown",
   "metadata": {
    "papermill": {
     "duration": 0.008489,
     "end_time": "2021-01-05T02:32:21.931886",
     "exception": false,
     "start_time": "2021-01-05T02:32:21.923397",
     "status": "completed"
    },
    "tags": []
   },
   "source": [
    "# Compiling the model\n",
    "I used the Adam optimizer with a learning rate of 1e-4 or 0.0001"
   ]
  },
  {
   "cell_type": "code",
   "execution_count": 4,
   "metadata": {
    "execution": {
     "iopub.execute_input": "2021-01-05T02:32:21.962190Z",
     "iopub.status.busy": "2021-01-05T02:32:21.961222Z",
     "iopub.status.idle": "2021-01-05T02:32:21.979475Z",
     "shell.execute_reply": "2021-01-05T02:32:21.980395Z"
    },
    "id": "I_Ox1JcZkxg_",
    "outputId": "e10cc587-a817-48c9-fe50-873cf31c354d",
    "papermill": {
     "duration": 0.040076,
     "end_time": "2021-01-05T02:32:21.980626",
     "exception": false,
     "start_time": "2021-01-05T02:32:21.940550",
     "status": "completed"
    },
    "tags": []
   },
   "outputs": [
    {
     "name": "stdout",
     "output_type": "stream",
     "text": [
      "Model: \"sequential\"\n",
      "_________________________________________________________________\n",
      "Layer (type)                 Output Shape              Param #   \n",
      "=================================================================\n",
      "random_contrast (RandomContr (None, 256, 256, 1)       0         \n",
      "_________________________________________________________________\n",
      "conv2d (Conv2D)              (None, 254, 254, 32)      320       \n",
      "_________________________________________________________________\n",
      "max_pooling2d (MaxPooling2D) (None, 127, 127, 32)      0         \n",
      "_________________________________________________________________\n",
      "conv2d_1 (Conv2D)            (None, 125, 125, 64)      18496     \n",
      "_________________________________________________________________\n",
      "max_pooling2d_1 (MaxPooling2 (None, 62, 62, 64)        0         \n",
      "_________________________________________________________________\n",
      "conv2d_2 (Conv2D)            (None, 60, 60, 128)       73856     \n",
      "_________________________________________________________________\n",
      "max_pooling2d_2 (MaxPooling2 (None, 30, 30, 128)       0         \n",
      "_________________________________________________________________\n",
      "conv2d_3 (Conv2D)            (None, 28, 28, 256)       295168    \n",
      "_________________________________________________________________\n",
      "max_pooling2d_3 (MaxPooling2 (None, 14, 14, 256)       0         \n",
      "_________________________________________________________________\n",
      "conv2d_4 (Conv2D)            (None, 12, 12, 512)       1180160   \n",
      "_________________________________________________________________\n",
      "max_pooling2d_4 (MaxPooling2 (None, 6, 6, 512)         0         \n",
      "_________________________________________________________________\n",
      "flatten (Flatten)            (None, 18432)             0         \n",
      "_________________________________________________________________\n",
      "dense (Dense)                (None, 128)               2359424   \n",
      "_________________________________________________________________\n",
      "dropout (Dropout)            (None, 128)               0         \n",
      "_________________________________________________________________\n",
      "dense_1 (Dense)              (None, 1)                 129       \n",
      "=================================================================\n",
      "Total params: 3,927,553\n",
      "Trainable params: 3,927,553\n",
      "Non-trainable params: 0\n",
      "_________________________________________________________________\n"
     ]
    }
   ],
   "source": [
    "optimizer = keras.optimizers.Adam(learning_rate=1e-4)\n",
    "\n",
    "model.compile(optimizer=optimizer, loss='binary_crossentropy', metrics=['binary_accuracy'])\n",
    "model.summary()"
   ]
  },
  {
   "cell_type": "markdown",
   "metadata": {
    "papermill": {
     "duration": 0.008963,
     "end_time": "2021-01-05T02:32:22.002009",
     "exception": false,
     "start_time": "2021-01-05T02:32:21.993046",
     "status": "completed"
    },
    "tags": []
   },
   "source": [
    "## Training the model"
   ]
  },
  {
   "cell_type": "code",
   "execution_count": 5,
   "metadata": {
    "execution": {
     "iopub.execute_input": "2021-01-05T02:32:22.026793Z",
     "iopub.status.busy": "2021-01-05T02:32:22.026137Z",
     "iopub.status.idle": "2021-01-05T02:37:29.312230Z",
     "shell.execute_reply": "2021-01-05T02:37:29.312811Z"
    },
    "id": "PgYsmoPikxg_",
    "outputId": "539f0bce-f832-483c-f291-de102fc2af41",
    "papermill": {
     "duration": 307.301798,
     "end_time": "2021-01-05T02:37:29.312990",
     "exception": false,
     "start_time": "2021-01-05T02:32:22.011192",
     "status": "completed"
    },
    "tags": []
   },
   "outputs": [
    {
     "name": "stdout",
     "output_type": "stream",
     "text": [
      "Epoch 1/10\n",
      "82/82 [==============================] - 92s 1s/step - loss: 0.5361 - binary_accuracy: 0.7454 - val_loss: 0.4819 - val_binary_accuracy: 0.8173\n",
      "Epoch 2/10\n",
      "82/82 [==============================] - 48s 581ms/step - loss: 0.3015 - binary_accuracy: 0.8600 - val_loss: 0.4322 - val_binary_accuracy: 0.8189\n",
      "Epoch 3/10\n",
      "82/82 [==============================] - 46s 558ms/step - loss: 0.1929 - binary_accuracy: 0.9277 - val_loss: 0.4792 - val_binary_accuracy: 0.8253\n",
      "Epoch 4/10\n",
      "82/82 [==============================] - 45s 552ms/step - loss: 0.1750 - binary_accuracy: 0.9333 - val_loss: 0.6291 - val_binary_accuracy: 0.7853\n",
      "Epoch 5/10\n",
      "82/82 [==============================] - ETA: 0s - loss: 0.1482 - binary_accuracy: 0.9498Restoring model weights from the end of the best epoch.\n",
      "82/82 [==============================] - 46s 556ms/step - loss: 0.1482 - binary_accuracy: 0.9498 - val_loss: 0.7260 - val_binary_accuracy: 0.7821\n",
      "Epoch 00005: early stopping\n"
     ]
    }
   ],
   "source": [
    "early_stopping = EarlyStopping(\n",
    "    min_delta = 1e-3,\n",
    "    patience=3,\n",
    "    restore_best_weights=True,\n",
    "    verbose=1\n",
    ")\n",
    "\n",
    "history = model.fit(\n",
    "    train_ds,\n",
    "    validation_data=(test_ds),\n",
    "    batch_size=64,\n",
    "    epochs=10,\n",
    "    callbacks=[early_stopping],\n",
    "    verbose=1\n",
    ")"
   ]
  },
  {
   "cell_type": "markdown",
   "metadata": {
    "papermill": {
     "duration": 0.147323,
     "end_time": "2021-01-05T02:37:29.607998",
     "exception": false,
     "start_time": "2021-01-05T02:37:29.460675",
     "status": "completed"
    },
    "tags": []
   },
   "source": [
    "## Saving the model"
   ]
  },
  {
   "cell_type": "code",
   "execution_count": 6,
   "metadata": {
    "execution": {
     "iopub.execute_input": "2021-01-05T02:37:29.918438Z",
     "iopub.status.busy": "2021-01-05T02:37:29.917453Z",
     "iopub.status.idle": "2021-01-05T02:37:30.021630Z",
     "shell.execute_reply": "2021-01-05T02:37:30.021042Z"
    },
    "id": "rJVytzbqJBaV",
    "papermill": {
     "duration": 0.266995,
     "end_time": "2021-01-05T02:37:30.021749",
     "exception": false,
     "start_time": "2021-01-05T02:37:29.754754",
     "status": "completed"
    },
    "tags": []
   },
   "outputs": [],
   "source": [
    "model.save('pneumonia-model.h5')"
   ]
  }
 ],
 "metadata": {
  "kernelspec": {
   "display_name": "Python 3",
   "language": "python",
   "name": "python3"
  },
  "language_info": {
   "codemirror_mode": {
    "name": "ipython",
    "version": 3
   },
   "file_extension": ".py",
   "mimetype": "text/x-python",
   "name": "python",
   "nbconvert_exporter": "python",
   "pygments_lexer": "ipython3",
   "version": "3.7.6"
  },
  "papermill": {
   "duration": 328.835581,
   "end_time": "2021-01-05T02:37:31.878708",
   "environment_variables": {},
   "exception": null,
   "input_path": "__notebook__.ipynb",
   "output_path": "__notebook__.ipynb",
   "parameters": {},
   "start_time": "2021-01-05T02:32:03.043127",
   "version": "2.1.0"
  }
 },
 "nbformat": 4,
 "nbformat_minor": 4
}
